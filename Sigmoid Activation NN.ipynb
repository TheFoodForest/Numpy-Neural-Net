{
 "cells": [
  {
   "cell_type": "code",
   "execution_count": 1,
   "metadata": {},
   "outputs": [],
   "source": [
    "import numpy as np\n",
    "import pandas as pd\n",
    "import scipy as sci \n",
    "import matplotlib.pyplot as plt"
   ]
  },
  {
   "cell_type": "code",
   "execution_count": 19,
   "metadata": {
    "scrolled": true
   },
   "outputs": [
    {
     "name": "stdout",
     "output_type": "stream",
     "text": [
      "<class 'pandas.core.frame.DataFrame'>\n",
      "RangeIndex: 891 entries, 0 to 890\n",
      "Data columns (total 12 columns):\n",
      "PassengerId    891 non-null int64\n",
      "Survived       891 non-null int64\n",
      "Pclass         891 non-null int64\n",
      "Name           891 non-null object\n",
      "Sex            891 non-null object\n",
      "Age            714 non-null float64\n",
      "SibSp          891 non-null int64\n",
      "Parch          891 non-null int64\n",
      "Ticket         891 non-null object\n",
      "Fare           891 non-null float64\n",
      "Cabin          204 non-null object\n",
      "Embarked       889 non-null object\n",
      "dtypes: float64(2), int64(5), object(5)\n",
      "memory usage: 83.6+ KB\n"
     ]
    }
   ],
   "source": [
    "data = pd.read_csv('titanic_train_kaggle.csv')\n",
    "data.head()\n",
    "data.info()"
   ]
  },
  {
   "cell_type": "code",
   "execution_count": 20,
   "metadata": {},
   "outputs": [
    {
     "name": "stdout",
     "output_type": "stream",
     "text": [
      "<class 'pandas.core.frame.DataFrame'>\n",
      "Int64Index: 714 entries, 0 to 890\n",
      "Data columns (total 4 columns):\n",
      "Survived    714 non-null int64\n",
      "Sex         714 non-null int32\n",
      "Age         714 non-null float64\n",
      "Fare        714 non-null float64\n",
      "dtypes: float64(2), int32(1), int64(1)\n",
      "memory usage: 25.1 KB\n"
     ]
    }
   ],
   "source": [
    "\n",
    "from sklearn.preprocessing import StandardScaler\n",
    "pd.set_option('display.max_rows', 714)\n",
    "data = pd.DataFrame(data[[\n",
    "    'Survived',\n",
    "    'Sex',\n",
    "    'Age',\n",
    "    'Fare'\n",
    "]])\n",
    "data = data.dropna()\n",
    "\n",
    "scaler = StandardScaler()\n",
    "age = data['Age'].values.reshape(-1,1)\n",
    "data['Age'] = scaler.fit_transform(age)\n",
    "\n",
    "fare = data['Fare'].values.reshape(-1,1)\n",
    "data['Fare'] = scaler.fit_transform(fare)\n",
    "\n",
    "data['Sex'] = data['Sex'].map({'female':0,'male':1}).astype(int)\n",
    "\n",
    "data.info()\n"
   ]
  },
  {
   "cell_type": "code",
   "execution_count": 21,
   "metadata": {},
   "outputs": [],
   "source": [
    "def sigmoid(x):\n",
    "    return (1/(1 + np.exp(-x)))\n",
    "\n",
    "              \n",
    "def sig_der(x):\n",
    "    return (sigmoid(x) * (1 - sigmoid(x)))"
   ]
  },
  {
   "cell_type": "code",
   "execution_count": 22,
   "metadata": {
    "scrolled": true
   },
   "outputs": [
    {
     "name": "stdout",
     "output_type": "stream",
     "text": [
      "Weights Before Train\n",
      "[[ 0.8230829 ]\n",
      " [-0.0227357 ]\n",
      " [-0.06477382]]\n",
      "Weights After Train\n",
      "[[-2.31583198]\n",
      " [-0.17173565]\n",
      " [ 0.69787461]]\n",
      "[1.0446326]\n"
     ]
    }
   ],
   "source": [
    "\n",
    "\n",
    "\n",
    "\n",
    "learning_rate = .01\n",
    "\n",
    "inputs = data.loc[:,['Sex','Age','Fare']].values\n",
    "train_outputs = data.loc[:,'Survived'].values\n",
    "weights = np.random.randn(3,1)*np.sqrt(2/(3))\n",
    "print('Weights Before Train')\n",
    "print(weights)\n",
    "\n",
    "B = .05\n",
    "\n",
    "for i in range(100):\n",
    "\n",
    "    input_layer = inputs\n",
    "    X = np.dot(input_layer,weights) + B\n",
    "    outputs = sigmoid(X)\n",
    "\n",
    "    train_outputs = train_outputs.reshape(-1,1)\n",
    "\n",
    "    error = outputs - train_outputs\n",
    "    \n",
    "    der = sig_der(outputs)\n",
    "    z_delta = error * der\n",
    "    \n",
    "#     adjust = np.dot(input_layer.T, sig_der(input_layer, weights, B) * error)\n",
    "    \n",
    "    weights -= learning_rate * np.dot(input_layer.T,z_delta)\n",
    "    for num in z_delta:\n",
    "        B -= learning_rate * num\n",
    "\n",
    "print('Weights After Train')\n",
    "print(weights)\n",
    "print(B)\n",
    "out_r = []\n",
    "for i in outputs:\n",
    "    if i >= 0.5:\n",
    "        out_r.append(1)\n",
    "    else:\n",
    "        out_r.append(0)\n",
    "# print(list(zip(out_r,train_outputs)))\n",
    "\n",
    "# print(outputs)"
   ]
  },
  {
   "cell_type": "code",
   "execution_count": 23,
   "metadata": {},
   "outputs": [
    {
     "name": "stdout",
     "output_type": "stream",
     "text": [
      "[[ 1.          0.          0.         ...  0.          1.\n",
      "   1.        ]\n",
      " [-0.53037664  0.57183099 -0.25482473 ... -0.73704057 -0.25482473\n",
      "   0.15850313]\n",
      " [-0.51897787  0.69189675 -0.50621356 ... -0.08877362 -0.08877362\n",
      "  -0.50952283]]\n"
     ]
    }
   ],
   "source": [
    "\n",
    "# Weights After Train\n",
    "# [[-2.33628522]\n",
    "#  [-0.17116952]\n",
    "#  [ 0.69766165]]\n",
    "# [1.05987224]\n",
    "\n",
    "\n",
    "print(input_layer.T)"
   ]
  },
  {
   "cell_type": "code",
   "execution_count": 24,
   "metadata": {},
   "outputs": [
    {
     "name": "stdout",
     "output_type": "stream",
     "text": [
      "1= Survived 0= Did Not Survive\n",
      "              precision    recall  f1-score   support\n",
      "\n",
      "           0       0.80      0.83      0.82       424\n",
      "           1       0.74      0.69      0.72       290\n",
      "\n",
      "    accuracy                           0.78       714\n",
      "   macro avg       0.77      0.76      0.77       714\n",
      "weighted avg       0.78      0.78      0.78       714\n",
      "\n"
     ]
    },
    {
     "data": {
      "image/png": "[encoded data removed]",
      "text/plain": [
       "<Figure size 432x288 with 1 Axes>"
      ]
     },
     "metadata": {
      "needs_background": "light"
     },
     "output_type": "display_data"
    }
   ],
   "source": [
    "from sklearn.metrics import roc_auc_score, roc_curve, classification_report\n",
    "import matplotlib.pyplot as plt\n",
    "\n",
    "def ModelScore(y_true, y_pred,output):\n",
    "    print('1= Survived', '0= Did Not Survive')\n",
    "    print(classification_report(y_true, y_pred))\n",
    "    roc_auc = roc_auc_score(y_true, y_pred)\n",
    "    fpr, tpr, thresholds = roc_curve(y_true,output)\n",
    "    plt.figure()\n",
    "    plt.plot(fpr, tpr, label='Model (area = %.2f)'% roc_auc)\n",
    "    plt.plot([0,1],[0,1], 'r--')\n",
    "    plt.xlim([0.0,1.0])\n",
    "    plt.ylim([0.0,1.05])\n",
    "    plt.xlabel('False Positive Rate')\n",
    "    plt.ylabel('True Positive Rate')\n",
    "    plt.title('Reciever Operating Characteristic')\n",
    "    plt.legend(loc='lower right')\n",
    "    plt.show()\n",
    "    \n",
    "ModelScore(train_outputs,out_r,outputs)"
   ]
  },
  {
   "cell_type": "code",
   "execution_count": 25,
   "metadata": {},
   "outputs": [
    {
     "data": {
      "application/vnd.jupyter.widget-view+json": {
       "model_id": "51e4b484acf2428c85146ea9c4a98213",
       "version_major": 2,
       "version_minor": 0
      },
      "text/plain": [
       "interactive(children=(FloatSlider(value=135.0, description='ix', max=360.0, step=15.0), FloatSlider(value=20.0…"
      ]
     },
     "metadata": {},
     "output_type": "display_data"
    }
   ],
   "source": [
    "from ipywidgets import interactive\n",
    "import ipywidgets as widgets\n",
    "\n",
    "x = data['Sex'].values\n",
    "y = data['Fare'].values\n",
    "graph_weight = []\n",
    "B = 0.5\n",
    "for i in range(100):\n",
    "    graph_weight.append(np.random.randint(-5,5,size=3)/np.random.randint(1,5,size=3))\n",
    "\n",
    "\n",
    "errors = []\n",
    "for i in range(100):\n",
    "    pred = np.array(sigmoid(np.dot(input_layer,graph_weight[i]))).ravel()\n",
    "\n",
    "    error = np.mean((pred - train_outputs)**2)\n",
    "    errors.append(error)\n",
    "    \n",
    "    \n",
    "errors = np.array(errors) \n",
    "\n",
    "x = [graph_weight[i][0] for i in range(100)]\n",
    "y = [graph_weight[i][1] for i in range(100)]\n",
    "\n",
    "from mpl_toolkits.mplot3d import Axes3D \n",
    "import matplotlib.cm as cm\n",
    "def plot(ix,iy):\n",
    "    fig = plt.figure(figsize=(10,10))\n",
    "    ax = fig.add_subplot(projection='3d')\n",
    "    ax.plot_trisurf(x,y,errors,cmap=cm.magma)\n",
    "\n",
    "    ax.view_init(iy,ix)\n",
    "    ax.set_title('Loss Function for Single Layer Perceptron NN')\n",
    "    ax.set_xlabel('Weight1 (multiplied by Sex)')\n",
    "    ax.set_ylabel('Weight2 (multiplied by Age)')\n",
    "    ax.set_zlabel('Loss')\n",
    "\n",
    "inter_plot = interactive(plot,ix=widgets.FloatSlider(min=0,max=360,step=15,value=135),iy=widgets.FloatSlider(min=-180,max=180,step=15,value=20))\n",
    "inter_plot"
   ]
  },
  {
   "cell_type": "markdown",
   "metadata": {},
   "source": [
    "## Now Building NN Class with hidden relu activation layer "
   ]
  },
  {
   "cell_type": "code",
   "execution_count": 9,
   "metadata": {},
   "outputs": [],
   "source": [
    "class Relu:\n",
    "    @staticmethod\n",
    "    def activation(z):\n",
    "        z[z<0] = 0\n",
    "        return z\n",
    "    @staticmethod\n",
    "    def prime(z):\n",
    "        z[z<0] = 0\n",
    "        z[z>0] = 1\n",
    "        return z\n",
    "    \n",
    "    \n",
    "class Sigmoid:\n",
    "    @staticmethod\n",
    "    def activation(z):\n",
    "        return 1 / (1+ np.exp(-z))\n",
    "    @staticmethod\n",
    "    def prime(z):\n",
    "        return Sigmoid.activation(z) * (1 - Sigmoid.activation(z))"
   ]
  },
  {
   "cell_type": "code",
   "execution_count": 10,
   "metadata": {},
   "outputs": [],
   "source": [
    "class NeuralNetwork():\n",
    "    def __init__(self, dimensions, activations):\n",
    "        #dimensions param: tuple of dimensions for NN, (input, hidden layer, output)\n",
    "        #activations param: tuple of activation fuctions\n",
    "        self.n_layers = len(dimensions)\n",
    "        self.loss = None\n",
    "        self.learning_rate = None\n",
    "        \n",
    "        self.w = {}\n",
    "        self.b = {}\n",
    "        self.activations = {}\n",
    "        self.train_history = {'epochs':[], \n",
    "                              'loss': [], \n",
    "                              'accuracy': []}\n",
    "        self.val_history = {'epochs':[], \n",
    "                            'loss': [], \n",
    "                            'accuracy': []}\n",
    "        self.test_history = {'epochs':[], \n",
    "                            'loss': [], \n",
    "                            'accuracy': []}\n",
    "        for i in range(len(dimensions) - 1):\n",
    "            #if dimensions = (3,4,1):\n",
    "            #weight[1] = random array with size (3,4)(row, col)s\n",
    "            #weight[2] = random array with size(4,1)\n",
    "            self.w[i+1] = np.random.randn(dimensions[i],dimensions[i+1]) / np.sqrt(dimensions[i])\n",
    "            self.b[i+1] = 2 * np.random.random_sample(dimensions[i+1]) + 1\n",
    "            self.activations[i+2] = activations[i]\n",
    "            \n",
    "\n",
    "    def _feed_forward(self, x):\n",
    "        #param x: array of input data vectors( array of arrays )\n",
    "        \n",
    "        #pass data forward through NN\n",
    "        #z has keys 2 and 3 for the weightged sums at each neuron\n",
    "        ### so z[2] is (n_rows_training, n_neurons in layer2) shape\n",
    "        ### each row in z[2] has four columns, each row represents a row of training data being passed\n",
    "        ### through NN and each column is the sum of that training row at a given nueron (x1w1 +x2w2... +xnwn +b)\n",
    "        ### the weights will be differnet for each x going into each neuron\n",
    "        \n",
    "        # z = W1X1 + W2X2 ... + WnXn + Bias \n",
    "        z = {}\n",
    "        \n",
    "        #outputs or activations of each layer\n",
    "        #input layer 1 just outputs the inputs\n",
    "        # input layer 2 (for RElU then Sigmoid network) outputs used in next iteration of z\n",
    "        \n",
    "        # a = f(z)\n",
    "        a = {1 : x}\n",
    "        \n",
    "        for i in range(1, self.n_layers):\n",
    "            #fill z[i+1] with dot product of weights[i'th layer] and outputs (a) of i'th layer\n",
    "            z[i+1] = np.dot(a[i], self.w[i]) + self.b[i]\n",
    "            #fill outputs (a[i+1]) by applying activation fuction[i+1] (only layer 2 and 3 have activation)  to \n",
    "            #to the just calculated z[i+1] dot prod of weght * x\n",
    "            a[i+1] = self.activations[i+1].activation(z[i+1])\n",
    "         \n",
    "        #dictionaries with keys for corresponding layer\n",
    "        return z, a\n",
    "    \n",
    "    def predict(self, x):\n",
    "        #x param: array containing x input array\n",
    "        \n",
    "        _ , a = self._feed_forward(x)\n",
    "        \n",
    "        #returns last layer's output\n",
    "        #this is the models prediction \n",
    "        #here is is through sigmoid function so between 0-1 for proba survive\n",
    "        return a[self.n_layers]\n",
    "        \n",
    "    def _update_w_b(self, index, dw, delta):\n",
    "        #index param: index of layer \n",
    "        #dw param: array of partial derivatives for weights \n",
    "        #delta param: delta error (combined partial dervatives for chain rule for partial der with respect to weights)\n",
    "        \n",
    "        #subtract learning rate times derivative of cost fuction with respect to each weight at each layer \n",
    "        #from each corresponding weight to move weights towards more accurate (less loss) values\n",
    "        # Bias partial derivative is slightly differnt than weights and needs one less chain-rule to calculate\n",
    "\n",
    "        self.w[index] -= self.learning_rate * dw\n",
    "\n",
    "        self.b[index] -= self.learning_rate * np.mean(delta, 0)\n",
    "        \n",
    "    def _back_prop(self, z, a ,y_true):\n",
    "        #z param: dictionary w(x) +b\n",
    "        # a param: dict f(z)\n",
    "        #loss will be called in the 'fit' method, using MSE here\n",
    "        #delta method returns partial derivative of loss func w respect to predicted value\n",
    "        #times the derivative of optimization function at given layer\n",
    "       \n",
    "        \n",
    "        delta = self.loss.delta(y_true, a[self.n_layers])\n",
    "        \n",
    "        #matrix multiply delta by the given layers transposed inputs and thats the three chains for partial \n",
    "        #derivative of loss function\n",
    "        #doing all in matrix multiplication is much faster than using for/while loops and essentially calculates\n",
    "        #all partial derivatives at once\n",
    "        \n",
    "        dw = np.dot(a[self.n_layers - 1].T, delta)\n",
    "        \n",
    "        \n",
    "        #update params = dictionary with key for each layer 0f NN\n",
    "        #layer 1 has (input dim, num nuerons in second layer) shaped derivative of weights as dw, \n",
    "        #and (batch_size,num nuerons in second layer) shaped delta for num nuerons in second layer z funcs at 2nd\n",
    "        \n",
    "        #layer 2 has (4,1) shaped derivative of 4 weights in second layer (from relu to sigmoid)\n",
    "        #and (batch_size,1) delta because just on z func (or neuron) at sigmoid layer\n",
    "     \n",
    "        \n",
    "        update_params = {\n",
    "            self.n_layers - 1 : (dw, delta)\n",
    "        }\n",
    "        \n",
    "        for i in reversed(range(2,self.n_layers)):\n",
    "            \n",
    "            # mult previous layer's delta by it's weights (while iterating) by given layers activation functions derivative\n",
    "            # to get current layers delta. (biases adjust by: minus 1*(delta), weights adjusted by: minus delta * previous layers activations)\n",
    "            # we do this in batches with dot products and transposed activation matrixes to get a sum of partial derivatives for each row in batch \n",
    "            # ran through NN.  Too large of batch size (or strange distributions in training data) can make this combination too\n",
    "            #extreme in either direction (+/-)\n",
    "            delta = np.dot(delta, self.w[i].T) * self.activations[i].prime(z[i])\n",
    "            \n",
    "            # now dot prod the delta matrix and previous layers activation matrix transposed\n",
    "            dw = np.dot(a[i - 1].T, delta)\n",
    "\n",
    "            update_params[i-1] = (dw,delta)\n",
    "\n",
    "        for k,v in update_params.items():\n",
    "\n",
    "            self._update_w_b(k, v[0], v[1])\n",
    "            \n",
    "        \n",
    "    def fit(self, x, y_true, loss, epochs, batch_size, learning_rate,xtest, ytest,validation_split=0.4,plot=True):\n",
    "        if x.shape[0] != y_true.shape[0]:\n",
    "            raise ValueError('Lengh of x and y arrays dont match')\n",
    "        #passing in activation function for loss class\n",
    "        self.loss = loss(self.activations[self.n_layers])\n",
    "        self.learning_rate = learning_rate\n",
    "        \n",
    "        #shuffle data for creating random validation sample\n",
    "        seed = np.arange(x.shape[0])\n",
    "        np.random.shuffle(seed)\n",
    "        x = x[seed]\n",
    "        y = y_true[seed]\n",
    "        \n",
    "        val_index = int(round(len(y_true)*validation_split,0))\n",
    "\n",
    "        x_train = x[val_index:]\n",
    "        y_train = y[val_index:]\n",
    "        x_val = x[:val_index]\n",
    "        y_val = y[:val_index]\n",
    "        \n",
    "        for i in range(epochs):\n",
    "            # Shuffle the data\n",
    "            #stochastic gradient decent for faster processing\n",
    "            #uses sample of points rather than full training set to calculate partial derivatives\n",
    "            seedt = np.arange(x_train.shape[0])\n",
    "            np.random.shuffle(seedt)\n",
    "            x_ = x_train[seedt]\n",
    "            y_ = y_train[seedt]\n",
    "            \n",
    "            \n",
    "            for j in range(x_.shape[0] // batch_size):\n",
    "                #k = lower bound of sample\n",
    "                k = j * batch_size\n",
    "                #upper bound of sample\n",
    "                l = (j + 1) * batch_size\n",
    "                z, a = self._feed_forward(x_[k:l])\n",
    "                self._back_prop(z, a, y_[k:l])\n",
    "                \n",
    "         \n",
    "            if (i + 1) % 15 == 0:\n",
    "                test_pred = self.predict(x_train)\n",
    "\n",
    "                print(\"Epoch {}, Loss: {}\".format(i,self.loss.loss(y_train, test_pred)))\n",
    "                losst = self.loss.loss(y_train, test_pred)\n",
    "                accuracyt = self.accuracy(y_train, test_pred)\n",
    "    \n",
    "                self.train_history['epochs'].append(i)\n",
    "                self.train_history['loss'].append(losst)\n",
    "                self.train_history['accuracy'].append(accuracyt)\n",
    "\n",
    "                \n",
    "                val_pred = self.predict(x_val)\n",
    "\n",
    "                lossv = self.loss.loss(y_val, val_pred)\n",
    "                accuracyv = self.accuracy(y_val, val_pred)\n",
    "                self.val_history['accuracy'].append(accuracyv)\n",
    "                self.val_history['epochs'].append(i)\n",
    "                self.val_history['loss'].append(lossv)\n",
    "                \n",
    "                val_test = self.predict(xtest)\n",
    "\n",
    "                losste = self.loss.loss(ytest, val_test)\n",
    "                accuracyte = self.accuracy(ytest, val_test)\n",
    "                \n",
    "                self.test_history['accuracy'].append(accuracyte)\n",
    "                self.test_history['epochs'].append(i)\n",
    "                self.test_history['loss'].append(losste)\n",
    "                \n",
    "\n",
    "\n",
    "                \n",
    "        if plot == True:\n",
    "            self.plot_loss()\n",
    "            \n",
    "            \n",
    "        \n",
    "        \n",
    "        \n",
    "    def plot_loss(self):\n",
    "        f = plt.figure(figsize=(10,5))\n",
    "        f.suptitle(\"SGD Optimization with {} learning rate\".format(self.learning_rate))\n",
    "        ax = f.add_subplot(1,2,1)\n",
    "        x = self.train_history['epochs']\n",
    "        y = self.train_history['loss']\n",
    "\n",
    "        x2 = self.val_history['epochs']\n",
    "        y2 = self.val_history['loss']\n",
    "        ax.plot(x,y,label=\"Train\")\n",
    "        ax.plot(x2,y2,label='Validate')\n",
    "        ax.set_title(\"Loss\")\n",
    "        \n",
    "        x3 = self.test_history['epochs']\n",
    "        y3 = self.test_history['loss']\n",
    "       \n",
    "        ax.plot(x3,y3,label='Test')\n",
    "        ax.set_title(\"Loss\")\n",
    "\n",
    "        ax.set_ylabel(\"loss\")\n",
    "        ax.set_xlabel('Epochs')\n",
    "        plt.legend()\n",
    "\n",
    "        \n",
    "        ax = f.add_subplot(1,2,2)\n",
    "        xt = self.train_history['epochs']\n",
    "        yt = self.train_history['accuracy']\n",
    "        xv = self.val_history['epochs']\n",
    "        yv = self.val_history['accuracy']\n",
    "        x3 = self.test_history['epochs']\n",
    "        y3 = self.test_history['accuracy']\n",
    "        ax.plot(xt,yt, label='Train')\n",
    "        ax.plot(xv,yv, label='Validate')\n",
    "        ax.plot(x3,y3,label=\"Test\")\n",
    "        ax.set_ylabel(\"Accuracy\")\n",
    "        ax.set_xlabel('Epochs')\n",
    "        ax.set_title(\"Accuracy\")\n",
    "# #         plt.legend()\n",
    "        plt.show()\n",
    "        \n",
    "    def accuracy(self, y_true, y_pred):\n",
    "        C = 0\n",
    "        I = 0\n",
    "        y_pred_round = []\n",
    "        for i in y_pred:\n",
    "            if i >= .5:\n",
    "                y_pred_round.append(1)\n",
    "            else:\n",
    "                y_pred_round.append(0)\n",
    "       \n",
    "        for true, pred in zip(y_true, y_pred_round):\n",
    "            if true == pred:\n",
    "                C += 1\n",
    "            else:\n",
    "                I += 1\n",
    "        return round(C/(I+C),3)\n",
    "        \n",
    "        \n",
    "class MSE:\n",
    "    def __init__(self, activation_fn):\n",
    "        #param activation_fn: Class object of activation function\n",
    "        self.activation_fn = activation_fn\n",
    "    def activation(self, z):\n",
    "        return self.activation_fn.activation(z)\n",
    "\n",
    "\n",
    "    def loss(self, y_true, y_pred):\n",
    "        return np.mean((y_pred - y_true)**2)\n",
    "    \n",
    "\n",
    "    def prime(self, y_true, y_pred):\n",
    "        #partial derrivative for chain rule\n",
    "        return (y_pred - y_true)\n",
    "        \n",
    "    def delta(self, y_true, y_pred):\n",
    "        #combining partial activation derivative and derivative of MSE with respect to y_pred\n",
    "         return self.prime(y_true, y_pred) * self.activation_fn.prime(y_pred)\n",
    "\n",
    "    \n",
    "        \n",
    "        \n",
    "        \n"
   ]
  },
  {
   "cell_type": "code",
   "execution_count": 11,
   "metadata": {
    "scrolled": false
   },
   "outputs": [
    {
     "name": "stdout",
     "output_type": "stream",
     "text": [
      "Epoch 14, Loss: 0.2334320212912687\n",
      "Epoch 29, Loss: 0.2186789132988092\n",
      "Epoch 44, Loss: 0.20862260831102836\n",
      "Epoch 59, Loss: 0.2011649432810515\n",
      "Epoch 74, Loss: 0.1955292585950354\n",
      "Epoch 89, Loss: 0.19102212073563146\n",
      "Epoch 104, Loss: 0.187101383264274\n",
      "Epoch 119, Loss: 0.1838169701993358\n",
      "Epoch 134, Loss: 0.18099623421511646\n",
      "Epoch 149, Loss: 0.17836753517207185\n",
      "Epoch 164, Loss: 0.17630532070841118\n",
      "Epoch 179, Loss: 0.17444717665732326\n",
      "Epoch 194, Loss: 0.17290399609317336\n",
      "Epoch 209, Loss: 0.17141390288641714\n",
      "Epoch 224, Loss: 0.17025001929390365\n",
      "Epoch 239, Loss: 0.16919594071034808\n"
     ]
    },
    {
     "data": {
      "image/png": "[encoded data removed]",
      "text/plain": [
       "<Figure size 720x360 with 2 Axes>"
      ]
     },
     "metadata": {
      "needs_background": "light"
     },
     "output_type": "display_data"
    },
    {
     "name": "stdout",
     "output_type": "stream",
     "text": [
      "===============\n",
      "Testing Data\n",
      "Corrects:  157\n",
      "Incorrects:  40\n",
      "Percent Correct:  0.7969543147208121\n",
      "===============\n",
      "1= Survived 0= Did Not Survive\n",
      "              precision    recall  f1-score   support\n",
      "\n",
      "           0       0.82      0.86      0.84       122\n",
      "           1       0.75      0.69      0.72        75\n",
      "\n",
      "    accuracy                           0.80       197\n",
      "   macro avg       0.79      0.78      0.78       197\n",
      "weighted avg       0.79      0.80      0.80       197\n",
      "\n"
     ]
    },
    {
     "data": {
      "image/png": "[encoded data removed]",
      "text/plain": [
       "<Figure size 432x288 with 1 Axes>"
      ]
     },
     "metadata": {
      "needs_background": "light"
     },
     "output_type": "display_data"
    }
   ],
   "source": [
    "from sklearn.model_selection import train_test_split\n",
    "data = pd.read_csv('titanic_train_kaggle.csv')\n",
    "\n",
    "from sklearn.preprocessing import StandardScaler\n",
    "pd.set_option('display.max_rows', 714)\n",
    "data = pd.DataFrame(data[[\n",
    "    'Survived',\n",
    "    'Sex',\n",
    "    'Age',\n",
    "    'Fare'\n",
    "]])\n",
    "data = data.dropna()\n",
    "\n",
    "scaler = StandardScaler()\n",
    "age = data['Age'].values.reshape(-1,1)\n",
    "data['Age'] = scaler.fit_transform(age)\n",
    "\n",
    "fare = data['Fare'].values.reshape(-1,1)\n",
    "data['Fare'] = scaler.fit_transform(fare)\n",
    "\n",
    "data['Sex'] = data['Sex'].map({'female':0,'male':1}).astype(int)\n",
    "inputs = data.loc[:,['Sex','Age','Fare']].values\n",
    "\n",
    "train_outputs = data.loc[:,'Survived'].values\n",
    "train_outputs = train_outputs.reshape(-1,1)\n",
    "\n",
    "x = inputs\n",
    "y = train_outputs\n",
    "\n",
    "X_train, X_test, y_train, y_test = train_test_split(x,y, test_size=.275, random_state=1)\n",
    "\n",
    "\n",
    "\n",
    "np.random.seed(41)\n",
    "\n",
    "\n",
    "\n",
    "nn = NeuralNetwork((3, 5, 1), (Relu, Sigmoid))\n",
    "nn.fit(X_train,y_train,loss=MSE,epochs=250,xtest=X_test,ytest=y_test,batch_size=25,learning_rate=.0006)\n",
    "predictions = nn.predict(X_test)\n",
    "y_pred = []\n",
    "for i in predictions:\n",
    "    if i >= 0.5:\n",
    "        y_pred.append(1)\n",
    "    else:\n",
    "        y_pred.append(0)\n",
    "\n",
    "\n",
    "C = 0\n",
    "I = 0\n",
    "for i,j in zip(y_pred,y_test):\n",
    "    if i == j:\n",
    "        C += 1\n",
    "    else:\n",
    "        I += 1\n",
    "        \n",
    "\n",
    "print('='*15)\n",
    "print('Testing Data')        \n",
    "print('Corrects: ',C)\n",
    "print('Incorrects: ', I)\n",
    "print('Percent Correct: ', C/(I+C))\n",
    "print('='*15)\n",
    "ModelScore(y_test,y_pred,predictions)"
   ]
  },
  {
   "cell_type": "code",
   "execution_count": 12,
   "metadata": {},
   "outputs": [
    {
     "data": {
      "text/plain": [
       "{1: array([[-0.70046548,  0.48698236,  0.38233232, -0.12921791,  0.63588691],\n",
       "        [-0.64701996, -0.01416481,  0.50374355, -0.57031377, -0.49527185],\n",
       "        [-0.19068866, -0.66256315, -0.45313913, -0.11657044, -0.61991528]]),\n",
       " 2: array([[ 1.05735338],\n",
       "        [-0.71137415],\n",
       "        [-0.38337256],\n",
       "        [-0.40272392],\n",
       "        [-0.58452491]])}"
      ]
     },
     "execution_count": 12,
     "metadata": {},
     "output_type": "execute_result"
    }
   ],
   "source": [
    "#weights after training\n",
    "#keys represent layers \n",
    "\n",
    "\n",
    "\n",
    "nn.w"
   ]
  },
  {
   "cell_type": "code",
   "execution_count": 13,
   "metadata": {},
   "outputs": [
    {
     "data": {
      "text/plain": [
       "{1: array([2.4938022 , 1.79394401, 2.21561425, 2.45487682, 1.84233343]),\n",
       " 2: array([2.17036276])}"
      ]
     },
     "execution_count": 13,
     "metadata": {},
     "output_type": "execute_result"
    }
   ],
   "source": [
    "\n",
    "#bias terms \n",
    "nn.b"
   ]
  },
  {
   "cell_type": "code",
   "execution_count": 14,
   "metadata": {},
   "outputs": [
    {
     "data": {
      "text/plain": [
       "{2: __main__.Relu, 3: __main__.Sigmoid}"
      ]
     },
     "execution_count": 14,
     "metadata": {},
     "output_type": "execute_result"
    }
   ],
   "source": [
    "nn.activations"
   ]
  },
  {
   "cell_type": "code",
   "execution_count": 15,
   "metadata": {},
   "outputs": [
    {
     "data": {
      "text/plain": [
       "{'epochs': [14,\n",
       "  29,\n",
       "  44,\n",
       "  59,\n",
       "  74,\n",
       "  89,\n",
       "  104,\n",
       "  119,\n",
       "  134,\n",
       "  149,\n",
       "  164,\n",
       "  179,\n",
       "  194,\n",
       "  209,\n",
       "  224,\n",
       "  239],\n",
       " 'loss': [0.230538919937787,\n",
       "  0.21733745929643464,\n",
       "  0.20905166821544127,\n",
       "  0.20325167878908104,\n",
       "  0.1988832049371155,\n",
       "  0.19532245500442194,\n",
       "  0.19203471245127185,\n",
       "  0.1891392381758356,\n",
       "  0.18664101509048217,\n",
       "  0.18438383425624988,\n",
       "  0.18239410248790874,\n",
       "  0.1804961226233169,\n",
       "  0.17874962124730973,\n",
       "  0.17724448079944716,\n",
       "  0.1758726925546553,\n",
       "  0.17479558012311944],\n",
       " 'accuracy': [0.638,\n",
       "  0.667,\n",
       "  0.667,\n",
       "  0.681,\n",
       "  0.686,\n",
       "  0.686,\n",
       "  0.705,\n",
       "  0.71,\n",
       "  0.71,\n",
       "  0.725,\n",
       "  0.744,\n",
       "  0.749,\n",
       "  0.754,\n",
       "  0.754,\n",
       "  0.754,\n",
       "  0.758]}"
      ]
     },
     "execution_count": 15,
     "metadata": {},
     "output_type": "execute_result"
    }
   ],
   "source": [
    "nn.val_history"
   ]
  },
  {
   "cell_type": "code",
   "execution_count": 16,
   "metadata": {
    "scrolled": false
   },
   "outputs": [
    {
     "name": "stdout",
     "output_type": "stream",
     "text": [
      "Epoch 14, Loss: 0.06426441468853718\n"
     ]
    },
    {
     "ename": "ValueError",
     "evalue": "The truth value of an array with more than one element is ambiguous. Use a.any() or a.all()",
     "output_type": "error",
     "traceback": [
      "\u001b[1;31m---------------------------------------------------------------------------\u001b[0m",
      "\u001b[1;31mValueError\u001b[0m                                Traceback (most recent call last)",
      "\u001b[1;32m<ipython-input-16-fed79caa7f0e>\u001b[0m in \u001b[0;36m<module>\u001b[1;34m\u001b[0m\n\u001b[0;32m     19\u001b[0m \u001b[1;33m\u001b[0m\u001b[0m\n\u001b[0;32m     20\u001b[0m \u001b[0mnn\u001b[0m \u001b[1;33m=\u001b[0m \u001b[0mNeuralNetwork\u001b[0m\u001b[1;33m(\u001b[0m\u001b[1;33m(\u001b[0m\u001b[1;36m64\u001b[0m\u001b[1;33m,\u001b[0m \u001b[1;36m25\u001b[0m\u001b[1;33m,\u001b[0m \u001b[1;36m10\u001b[0m\u001b[1;33m)\u001b[0m\u001b[1;33m,\u001b[0m \u001b[1;33m(\u001b[0m\u001b[0mRelu\u001b[0m\u001b[1;33m,\u001b[0m \u001b[0mSigmoid\u001b[0m\u001b[1;33m)\u001b[0m\u001b[1;33m)\u001b[0m\u001b[1;33m\u001b[0m\u001b[1;33m\u001b[0m\u001b[0m\n\u001b[1;32m---> 21\u001b[1;33m \u001b[0mnn\u001b[0m\u001b[1;33m.\u001b[0m\u001b[0mfit\u001b[0m\u001b[1;33m(\u001b[0m\u001b[0mX_train\u001b[0m\u001b[1;33m,\u001b[0m \u001b[0my_train\u001b[0m\u001b[1;33m,\u001b[0m\u001b[0mxtest\u001b[0m\u001b[1;33m=\u001b[0m\u001b[0mX_test\u001b[0m\u001b[1;33m,\u001b[0m \u001b[0mytest\u001b[0m\u001b[1;33m=\u001b[0m\u001b[0my_test\u001b[0m\u001b[1;33m,\u001b[0m \u001b[0mloss\u001b[0m\u001b[1;33m=\u001b[0m\u001b[0mMSE\u001b[0m\u001b[1;33m,\u001b[0m \u001b[0mepochs\u001b[0m\u001b[1;33m=\u001b[0m\u001b[1;36m500\u001b[0m\u001b[1;33m,\u001b[0m \u001b[0mbatch_size\u001b[0m\u001b[1;33m=\u001b[0m\u001b[1;36m1\u001b[0m\u001b[1;33m,\u001b[0m \u001b[0mlearning_rate\u001b[0m\u001b[1;33m=\u001b[0m\u001b[1;36m.00005\u001b[0m\u001b[1;33m,\u001b[0m\u001b[0mvalidation_split\u001b[0m\u001b[1;33m=\u001b[0m\u001b[1;36m0.25\u001b[0m\u001b[1;33m)\u001b[0m\u001b[1;33m\u001b[0m\u001b[1;33m\u001b[0m\u001b[0m\n\u001b[0m\u001b[0;32m     22\u001b[0m \u001b[1;33m\u001b[0m\u001b[0m\n\u001b[0;32m     23\u001b[0m \u001b[0mprediction\u001b[0m \u001b[1;33m=\u001b[0m \u001b[0mnn\u001b[0m\u001b[1;33m.\u001b[0m\u001b[0mpredict\u001b[0m\u001b[1;33m(\u001b[0m\u001b[0mX_test\u001b[0m\u001b[1;33m)\u001b[0m\u001b[1;33m\u001b[0m\u001b[1;33m\u001b[0m\u001b[0m\n",
      "\u001b[1;32m<ipython-input-10-84dfc9cd7c67>\u001b[0m in \u001b[0;36mfit\u001b[1;34m(self, x, y_true, loss, epochs, batch_size, learning_rate, xtest, ytest, validation_split, plot)\u001b[0m\n\u001b[0;32m    174\u001b[0m                 \u001b[0mprint\u001b[0m\u001b[1;33m(\u001b[0m\u001b[1;34m\"Epoch {}, Loss: {}\"\u001b[0m\u001b[1;33m.\u001b[0m\u001b[0mformat\u001b[0m\u001b[1;33m(\u001b[0m\u001b[0mi\u001b[0m\u001b[1;33m,\u001b[0m\u001b[0mself\u001b[0m\u001b[1;33m.\u001b[0m\u001b[0mloss\u001b[0m\u001b[1;33m.\u001b[0m\u001b[0mloss\u001b[0m\u001b[1;33m(\u001b[0m\u001b[0my_train\u001b[0m\u001b[1;33m,\u001b[0m \u001b[0mtest_pred\u001b[0m\u001b[1;33m)\u001b[0m\u001b[1;33m)\u001b[0m\u001b[1;33m)\u001b[0m\u001b[1;33m\u001b[0m\u001b[1;33m\u001b[0m\u001b[0m\n\u001b[0;32m    175\u001b[0m                 \u001b[0mlosst\u001b[0m \u001b[1;33m=\u001b[0m \u001b[0mself\u001b[0m\u001b[1;33m.\u001b[0m\u001b[0mloss\u001b[0m\u001b[1;33m.\u001b[0m\u001b[0mloss\u001b[0m\u001b[1;33m(\u001b[0m\u001b[0my_train\u001b[0m\u001b[1;33m,\u001b[0m \u001b[0mtest_pred\u001b[0m\u001b[1;33m)\u001b[0m\u001b[1;33m\u001b[0m\u001b[1;33m\u001b[0m\u001b[0m\n\u001b[1;32m--> 176\u001b[1;33m                 \u001b[0maccuracyt\u001b[0m \u001b[1;33m=\u001b[0m \u001b[0mself\u001b[0m\u001b[1;33m.\u001b[0m\u001b[0maccuracy\u001b[0m\u001b[1;33m(\u001b[0m\u001b[0my_train\u001b[0m\u001b[1;33m,\u001b[0m \u001b[0mtest_pred\u001b[0m\u001b[1;33m)\u001b[0m\u001b[1;33m\u001b[0m\u001b[1;33m\u001b[0m\u001b[0m\n\u001b[0m\u001b[0;32m    177\u001b[0m \u001b[1;33m\u001b[0m\u001b[0m\n\u001b[0;32m    178\u001b[0m                 \u001b[0mself\u001b[0m\u001b[1;33m.\u001b[0m\u001b[0mtrain_history\u001b[0m\u001b[1;33m[\u001b[0m\u001b[1;34m'epochs'\u001b[0m\u001b[1;33m]\u001b[0m\u001b[1;33m.\u001b[0m\u001b[0mappend\u001b[0m\u001b[1;33m(\u001b[0m\u001b[0mi\u001b[0m\u001b[1;33m)\u001b[0m\u001b[1;33m\u001b[0m\u001b[1;33m\u001b[0m\u001b[0m\n",
      "\u001b[1;32m<ipython-input-10-84dfc9cd7c67>\u001b[0m in \u001b[0;36maccuracy\u001b[1;34m(self, y_true, y_pred)\u001b[0m\n\u001b[0;32m    253\u001b[0m         \u001b[0my_pred_round\u001b[0m \u001b[1;33m=\u001b[0m \u001b[1;33m[\u001b[0m\u001b[1;33m]\u001b[0m\u001b[1;33m\u001b[0m\u001b[1;33m\u001b[0m\u001b[0m\n\u001b[0;32m    254\u001b[0m         \u001b[1;32mfor\u001b[0m \u001b[0mi\u001b[0m \u001b[1;32min\u001b[0m \u001b[0my_pred\u001b[0m\u001b[1;33m:\u001b[0m\u001b[1;33m\u001b[0m\u001b[1;33m\u001b[0m\u001b[0m\n\u001b[1;32m--> 255\u001b[1;33m             \u001b[1;32mif\u001b[0m \u001b[0mi\u001b[0m \u001b[1;33m>=\u001b[0m \u001b[1;36m.5\u001b[0m\u001b[1;33m:\u001b[0m\u001b[1;33m\u001b[0m\u001b[1;33m\u001b[0m\u001b[0m\n\u001b[0m\u001b[0;32m    256\u001b[0m                 \u001b[0my_pred_round\u001b[0m\u001b[1;33m.\u001b[0m\u001b[0mappend\u001b[0m\u001b[1;33m(\u001b[0m\u001b[1;36m1\u001b[0m\u001b[1;33m)\u001b[0m\u001b[1;33m\u001b[0m\u001b[1;33m\u001b[0m\u001b[0m\n\u001b[0;32m    257\u001b[0m             \u001b[1;32melse\u001b[0m\u001b[1;33m:\u001b[0m\u001b[1;33m\u001b[0m\u001b[1;33m\u001b[0m\u001b[0m\n",
      "\u001b[1;31mValueError\u001b[0m: The truth value of an array with more than one element is ambiguous. Use a.any() or a.all()"
     ]
    }
   ],
   "source": [
    "## Now testing NN on sklearn digit reconition data set \n",
    "#########################################################################\n",
    "## HAVE TO COMMENT OUT EVERYTHING RELATED TO ACCURACY IN .FIT() METHOD \n",
    "## THAT ACCURACY CALC ONLY FOR BINARY CLASSIF. FOR NOW\n",
    "## COMMENT OUT AND THEN RE-RUN THE CELL DEFINING NN CLASS\n",
    "##########################################################################\n",
    "from sklearn import datasets\n",
    "import sklearn.metrics\n",
    "np.random.seed(1)\n",
    "data = datasets.load_digits()\n",
    "\n",
    "x = data[\"data\"]\n",
    "y = data[\"target\"]\n",
    "\n",
    "y = np.eye(10)[y]\n",
    "\n",
    "\n",
    "X_train, X_test, y_train, y_test = train_test_split(x,y, test_size=.3, random_state=1)\n",
    "\n",
    "nn = NeuralNetwork((64, 25, 10), (Relu, Sigmoid))\n",
    "nn.fit(X_train, y_train,xtest=X_test, ytest=y_test, loss=MSE, epochs=500, batch_size=1, learning_rate=.00005,validation_split=0.25)\n",
    "\n",
    "prediction = nn.predict(X_test)\n",
    "\n",
    "y_true = []\n",
    "y_pred = []\n",
    "for i in range(len(y_test)):\n",
    "    y_pred.append(np.argmax(prediction[i]))\n",
    "    y_true.append(np.argmax(y_test[i]))\n",
    "\n",
    "print(sklearn.metrics.classification_report(y_true, y_pred))\n",
    "C = 0\n",
    "I = 0\n",
    "for i,j in zip(y_pred,y_true):\n",
    "    if i == j:\n",
    "        C += 1\n",
    "    else:\n",
    "        I += 1\n",
    "print('='*15)\n",
    "print('Testing Data')        \n",
    "print('Corrects: ',C)\n",
    "print('Incorrects: ', I)\n",
    "print('Percent Correct: ', C/(I+C))\n",
    "print('='*15)"
   ]
  },
  {
   "cell_type": "code",
   "execution_count": null,
   "metadata": {},
   "outputs": [],
   "source": [
    "x = nn.val_history['epochs']\n",
    "y = nn.val_history['loss']\n",
    "plt.plot(x,y)"
   ]
  },
  {
   "cell_type": "code",
   "execution_count": null,
   "metadata": {},
   "outputs": [],
   "source": [
    "x = nn.train_history['epochs']\n",
    "y = nn.train_history['loss']\n",
    "x2 = nn.val_history['epochs']\n",
    "y2 = nn.val_history['loss']\n",
    "plt.plot(x,y)\n",
    "plt.plot(x2,y2)"
   ]
  },
  {
   "cell_type": "code",
   "execution_count": null,
   "metadata": {},
   "outputs": [],
   "source": [
    "for i in reversed(range(2, 5)):\n",
    "    print(i)"
   ]
  },
  {
   "cell_type": "code",
   "execution_count": null,
   "metadata": {},
   "outputs": [],
   "source": []
  }
 ],
 "metadata": {
  "kernelspec": {
   "display_name": "Python 3",
   "language": "python",
   "name": "python3"
  },
  "language_info": {
   "codemirror_mode": {
    "name": "ipython",
    "version": 3
   },
   "file_extension": ".py",
   "mimetype": "text/x-python",
   "name": "python",
   "nbconvert_exporter": "python",
   "pygments_lexer": "ipython3",
   "version": "3.7.3"
  }
 },
 "nbformat": 4,
 "nbformat_minor": 2
}
